{
 "cells": [
  {
   "cell_type": "code",
   "execution_count": 1,
   "id": "27791e6e-f65f-41a1-aca3-e1d0a8d2d35f",
   "metadata": {},
   "outputs": [
    {
     "name": "stdout",
     "output_type": "stream",
     "text": [
      "Collecting pymongo\n",
      "  Downloading pymongo-4.3.3-cp310-cp310-manylinux_2_17_x86_64.manylinux2014_x86_64.whl (492 kB)\n",
      "\u001b[2K     \u001b[90m━━━━━━━━━━━━━━━━━━━━━━━━━━━━━━━━━━━━━━\u001b[0m \u001b[32m492.9/492.9 kB\u001b[0m \u001b[31m37.3 MB/s\u001b[0m eta \u001b[36m0:00:00\u001b[0m\n",
      "\u001b[?25hCollecting dnspython<3.0.0,>=1.16.0\n",
      "  Downloading dnspython-2.3.0-py3-none-any.whl (283 kB)\n",
      "\u001b[2K     \u001b[90m━━━━━━━━━━━━━━━━━━━━━━━━━━━━━━━━━━━━━━\u001b[0m \u001b[32m283.7/283.7 kB\u001b[0m \u001b[31m37.7 MB/s\u001b[0m eta \u001b[36m0:00:00\u001b[0m\n",
      "\u001b[?25hInstalling collected packages: dnspython, pymongo\n",
      "Successfully installed dnspython-2.3.0 pymongo-4.3.3\n",
      "Note: you may need to restart the kernel to use updated packages.\n"
     ]
    }
   ],
   "source": [
    "pip install pymongo"
   ]
  },
  {
   "cell_type": "code",
   "execution_count": 2,
   "id": "43a75b70-9bb9-45aa-966d-56e55c75f9ad",
   "metadata": {},
   "outputs": [],
   "source": [
    "import requests\n",
    "from bs4 import BeautifulSoup\n",
    "from urllib.request import urlopen as uReq\n",
    "import logging\n",
    "import pymongo\n",
    "import os"
   ]
  },
  {
   "cell_type": "code",
   "execution_count": 4,
   "id": "a847a670-eebb-48e4-9caa-eff03bf6ae94",
   "metadata": {},
   "outputs": [],
   "source": [
    "save_dir=\"images/\"\n",
    "if not os.path.exists(save_dir):\n",
    "    os.makedirs(save_dir)"
   ]
  },
  {
   "cell_type": "code",
   "execution_count": 5,
   "id": "aee39980-e024-4fea-9de2-f099321fbacf",
   "metadata": {},
   "outputs": [],
   "source": [
    "headers={\"user-agent\":\"ttps://www.google.com/search?q=shri+ram&sxsrf=APwXEddCzvXnjSo6HIXfWddFGYeMLYZuzw:1682432251995&source=lnms&tbm=isch&sa=X&ved=2ahUKEwjMjPTFnMX-AhUCrlYBHUV7Br0Q_AUoAXoECAEQAw&biw=764&bih=720&dpr=1.25\"}"
   ]
  },
  {
   "cell_type": "code",
   "execution_count": 11,
   "id": "6aa1313e-317a-4e1e-b886-87570ff3d52b",
   "metadata": {},
   "outputs": [],
   "source": [
    "query=\"shri ram\"\n",
    "response=requests.get(f\"https://www.google.com/search?q={query}&sxsrf=APwXEddCzvXnjSo6HIXfWddFGYeMLYZuzw:1682432251995&source=lnms&tbm=isch&sa=X&ved=2ahUKEwjMjPTFnMX-AhUCrlYBHUV7Br0Q_AUoAXoECAEQAw&biw=764&bih=720&dpr=1.25\")"
   ]
  },
  {
   "cell_type": "code",
   "execution_count": 12,
   "id": "4566c4f8-acb5-48bc-90d9-17cb3c437fbb",
   "metadata": {},
   "outputs": [
    {
     "data": {
      "text/plain": [
       "<Response [200]>"
      ]
     },
     "execution_count": 12,
     "metadata": {},
     "output_type": "execute_result"
    }
   ],
   "source": [
    "response"
   ]
  },
  {
   "cell_type": "code",
   "execution_count": 14,
   "id": "fa21e0e7-2316-48e9-8cdf-d636dc5c416f",
   "metadata": {},
   "outputs": [],
   "source": [
    "soup=BeautifulSoup(response.content)"
   ]
  },
  {
   "cell_type": "code",
   "execution_count": 18,
   "id": "74fcf3e6-26b6-45fb-8563-99d8ce579338",
   "metadata": {},
   "outputs": [],
   "source": [
    "images_tags=soup.find_all(\"img\")"
   ]
  },
  {
   "cell_type": "code",
   "execution_count": 19,
   "id": "f6c59fc1-27e5-44b5-be41-2719862579f5",
   "metadata": {},
   "outputs": [
    {
     "data": {
      "text/plain": [
       "21"
      ]
     },
     "execution_count": 19,
     "metadata": {},
     "output_type": "execute_result"
    }
   ],
   "source": [
    "len(images_tags)"
   ]
  },
  {
   "cell_type": "code",
   "execution_count": 20,
   "id": "d4ea2a57-1ad4-4e4d-a0db-2e015cb97c6a",
   "metadata": {},
   "outputs": [],
   "source": [
    "del images_tags[0]"
   ]
  },
  {
   "cell_type": "code",
   "execution_count": 30,
   "id": "ee9970ba-97dd-4698-9e3c-b90141b1d504",
   "metadata": {},
   "outputs": [
    {
     "data": {
      "text/plain": [
       "'client=pymongo.MongoClient(\"mongodb+srv://sharmavishal78678:<password>@cluster0.z0bvnri.mongodb.net/?retryWrites=true&w=majority\")\\ndb=client[\"image_scrap\"]\\ncoll_image=db[\"image_scrap\"]\\ncoll_image.insert_many(img_data_mongo)'"
      ]
     },
     "execution_count": 30,
     "metadata": {},
     "output_type": "execute_result"
    }
   ],
   "source": [
    "img_data_mongo=[]\n",
    "for i in images_tags:\n",
    "    image_url=i[\"src\"]\n",
    "    image_data=requests.get(image_url).content\n",
    "    my_dict={\"index\":image_url,\"imge\":image_data}\n",
    "    img_data_mongo.append(my_dict)\n",
    "    with open(os.path.join(save_dir,f\"{query}_{images_tags.index(i)}.jpg\"),\"wb\")as f:\n",
    "              f.write(image_data)\n",
    "'''client=pymongo.MongoClient(\"mongodb+srv://sharmavishal78678:<password>@cluster0.z0bvnri.mongodb.net/?retryWrites=true&w=majority\")\n",
    "db=client[\"image_scrap\"]\n",
    "coll_image=db[\"image_scrap\"]\n",
    "coll_image.insert_many(img_data_mongo)'''"
   ]
  },
  {
   "cell_type": "code",
   "execution_count": null,
   "id": "df126cab-8b5c-400b-a615-271e65e78e84",
   "metadata": {},
   "outputs": [],
   "source": []
  },
  {
   "cell_type": "code",
   "execution_count": null,
   "id": "191d6233-036b-4ae2-bd0f-d26495fd1e1c",
   "metadata": {},
   "outputs": [],
   "source": []
  }
 ],
 "metadata": {
  "kernelspec": {
   "display_name": "Python 3 (ipykernel)",
   "language": "python",
   "name": "python3"
  },
  "language_info": {
   "codemirror_mode": {
    "name": "ipython",
    "version": 3
   },
   "file_extension": ".py",
   "mimetype": "text/x-python",
   "name": "python",
   "nbconvert_exporter": "python",
   "pygments_lexer": "ipython3",
   "version": "3.10.8"
  }
 },
 "nbformat": 4,
 "nbformat_minor": 5
}
